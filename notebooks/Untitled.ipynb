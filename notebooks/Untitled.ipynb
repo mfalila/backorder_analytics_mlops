{
 "cells": [
  {
   "cell_type": "code",
   "execution_count": null,
   "id": "96bd9ec6-53b5-4ce6-bb74-07a6d6cac5fc",
   "metadata": {},
   "outputs": [],
   "source": []
  },
  {
   "cell_type": "code",
   "execution_count": 1,
   "id": "affd3058-9a8b-4e46-9fbb-4bf28026aa0b",
   "metadata": {},
   "outputs": [],
   "source": [
    "test_dict = {\n",
    "\"response\": \"\\\"0.814904\\\"\"\n",
    "}"
   ]
  },
  {
   "cell_type": "code",
   "execution_count": 2,
   "id": "9b6b2ba6-3ac2-4f4d-a8f2-6001cba2ab03",
   "metadata": {},
   "outputs": [
    {
     "data": {
      "text/plain": [
       "{'response': '\"0.814904\"'}"
      ]
     },
     "execution_count": 2,
     "metadata": {},
     "output_type": "execute_result"
    }
   ],
   "source": [
    "test_dict"
   ]
  },
  {
   "cell_type": "code",
   "execution_count": 12,
   "id": "7b0ed430-2e05-4fcb-bf10-284f77e66d0d",
   "metadata": {},
   "outputs": [
    {
     "data": {
      "text/plain": [
       "dict_values(['\"0.814904\"'])"
      ]
     },
     "execution_count": 12,
     "metadata": {},
     "output_type": "execute_result"
    }
   ],
   "source": [
    "test_dict.values()"
   ]
  },
  {
   "cell_type": "code",
   "execution_count": 10,
   "id": "5166eab8-6358-4eb7-8ba2-86df5d9b015e",
   "metadata": {},
   "outputs": [
    {
     "ename": "TypeError",
     "evalue": "'dict_items' object is not subscriptable",
     "output_type": "error",
     "traceback": [
      "\u001b[0;31m---------------------------------------------------------------------------\u001b[0m",
      "\u001b[0;31mTypeError\u001b[0m                                 Traceback (most recent call last)",
      "\u001b[0;32m/tmp/ipykernel_1887/926621117.py\u001b[0m in \u001b[0;36m<module>\u001b[0;34m\u001b[0m\n\u001b[0;32m----> 1\u001b[0;31m \u001b[0mtest_dict\u001b[0m\u001b[0;34m.\u001b[0m\u001b[0mitems\u001b[0m\u001b[0;34m(\u001b[0m\u001b[0;34m)\u001b[0m\u001b[0;34m[\u001b[0m\u001b[0;36m0\u001b[0m\u001b[0;34m]\u001b[0m\u001b[0;34m\u001b[0m\u001b[0;34m\u001b[0m\u001b[0m\n\u001b[0m",
      "\u001b[0;31mTypeError\u001b[0m: 'dict_items' object is not subscriptable"
     ]
    }
   ],
   "source": [
    "test_dict.items()[0]"
   ]
  },
  {
   "cell_type": "code",
   "execution_count": 17,
   "id": "73c49281-dd94-4a43-b799-fb5802a653cb",
   "metadata": {},
   "outputs": [
    {
     "data": {
      "text/plain": [
       "dict_keys(['response'])"
      ]
     },
     "execution_count": 17,
     "metadata": {},
     "output_type": "execute_result"
    }
   ],
   "source": [
    "test_dict.keys()"
   ]
  },
  {
   "cell_type": "code",
   "execution_count": 19,
   "id": "0466209f-1e25-4a94-bbc0-aac772c4a645",
   "metadata": {},
   "outputs": [],
   "source": [
    "p = test_dict.values()"
   ]
  },
  {
   "cell_type": "code",
   "execution_count": 20,
   "id": "52ba5578-05d6-468e-ac61-c1d1f38404b9",
   "metadata": {},
   "outputs": [
    {
     "data": {
      "text/plain": [
       "dict_values(['\"0.814904\"'])"
      ]
     },
     "execution_count": 20,
     "metadata": {},
     "output_type": "execute_result"
    }
   ],
   "source": [
    "p"
   ]
  },
  {
   "cell_type": "code",
   "execution_count": 21,
   "id": "0f2fe597-e9af-479e-bcde-f5f3dbb1f7c8",
   "metadata": {},
   "outputs": [
    {
     "name": "stdout",
     "output_type": "stream",
     "text": [
      "dict_values(['\"0.814904\"'])\n"
     ]
    }
   ],
   "source": [
    "print(p)"
   ]
  },
  {
   "cell_type": "code",
   "execution_count": 25,
   "id": "c5356c41-7d53-433a-a1ff-74a73aabf118",
   "metadata": {},
   "outputs": [
    {
     "data": {
      "text/plain": [
       "dict_values(['\"0.814904\"'])"
      ]
     },
     "execution_count": 25,
     "metadata": {},
     "output_type": "execute_result"
    }
   ],
   "source": [
    "test_dict.values()"
   ]
  },
  {
   "cell_type": "code",
   "execution_count": 26,
   "id": "7003a4f1-90ec-4fcd-a4b0-b1a678b4fba2",
   "metadata": {},
   "outputs": [
    {
     "data": {
      "text/plain": [
       "dict_values"
      ]
     },
     "execution_count": 26,
     "metadata": {},
     "output_type": "execute_result"
    }
   ],
   "source": [
    "type(test_dict.values())"
   ]
  },
  {
   "cell_type": "code",
   "execution_count": null,
   "id": "ae9a806b-0c80-4e76-88d7-b817fadd5d6f",
   "metadata": {},
   "outputs": [],
   "source": []
  },
  {
   "cell_type": "code",
   "execution_count": null,
   "id": "a03ac60d-9625-4585-8f9f-a53df3f5e6e6",
   "metadata": {},
   "outputs": [],
   "source": []
  },
  {
   "cell_type": "code",
   "execution_count": 30,
   "id": "bdfdf260-fede-4f2b-ba7e-ad59c0297ae9",
   "metadata": {},
   "outputs": [
    {
     "name": "stdout",
     "output_type": "stream",
     "text": [
      "response\n"
     ]
    }
   ],
   "source": [
    "print(([x for x in test_dict][0]))"
   ]
  },
  {
   "cell_type": "code",
   "execution_count": 31,
   "id": "cfec3724-d15f-45fa-89d7-0935d1664cfb",
   "metadata": {},
   "outputs": [
    {
     "data": {
      "text/plain": [
       "{'response': '\"0.814904\"'}"
      ]
     },
     "execution_count": 31,
     "metadata": {},
     "output_type": "execute_result"
    }
   ],
   "source": [
    "test_dict"
   ]
  },
  {
   "cell_type": "code",
   "execution_count": 41,
   "id": "96e14b4f-d319-4d7c-8aa3-b1932b2eb1c9",
   "metadata": {},
   "outputs": [
    {
     "name": "stdout",
     "output_type": "stream",
     "text": [
      "\"0.814904\"\n"
     ]
    }
   ],
   "source": [
    "print(([(x) for x in test_dict.values()])[0])"
   ]
  },
  {
   "cell_type": "code",
   "execution_count": 44,
   "id": "abf89b47-99a8-4102-bcd0-5c8ebd84eac9",
   "metadata": {},
   "outputs": [],
   "source": [
    "string = ([(x) for x in test_dict.values()])[0]"
   ]
  },
  {
   "cell_type": "code",
   "execution_count": 45,
   "id": "4e51044c-9eb9-4ffe-aa7e-542042e45686",
   "metadata": {},
   "outputs": [
    {
     "data": {
      "text/plain": [
       "'\"0.814904\"'"
      ]
     },
     "execution_count": 45,
     "metadata": {},
     "output_type": "execute_result"
    }
   ],
   "source": [
    "string"
   ]
  },
  {
   "cell_type": "code",
   "execution_count": 47,
   "id": "5bc41439-c9f9-4165-8230-45d5add4e8d6",
   "metadata": {},
   "outputs": [
    {
     "ename": "ValueError",
     "evalue": "could not convert string to float: 'string'",
     "output_type": "error",
     "traceback": [
      "\u001b[0;31m---------------------------------------------------------------------------\u001b[0m",
      "\u001b[0;31mValueError\u001b[0m                                Traceback (most recent call last)",
      "\u001b[0;32m/tmp/ipykernel_1887/814156268.py\u001b[0m in \u001b[0;36m<module>\u001b[0;34m\u001b[0m\n\u001b[0;32m----> 1\u001b[0;31m \u001b[0mfloat\u001b[0m\u001b[0;34m(\u001b[0m\u001b[0;34m\"string\"\u001b[0m\u001b[0;34m)\u001b[0m\u001b[0;34m\u001b[0m\u001b[0;34m\u001b[0m\u001b[0m\n\u001b[0m",
      "\u001b[0;31mValueError\u001b[0m: could not convert string to float: 'string'"
     ]
    }
   ],
   "source": [
    "float(\"string\")"
   ]
  },
  {
   "cell_type": "code",
   "execution_count": 51,
   "id": "d024c358-e0de-4983-b0f8-8d939885f890",
   "metadata": {},
   "outputs": [
    {
     "data": {
      "text/plain": [
       "'\"0.814904\"'"
      ]
     },
     "execution_count": 51,
     "metadata": {},
     "output_type": "execute_result"
    }
   ],
   "source": [
    "string.replace(\"'\", \"/\" )"
   ]
  },
  {
   "cell_type": "code",
   "execution_count": 56,
   "id": "27f74ae4-26e0-4221-bd90-2eb0238fe04b",
   "metadata": {},
   "outputs": [
    {
     "data": {
      "text/plain": [
       "0.814904"
      ]
     },
     "execution_count": 56,
     "metadata": {},
     "output_type": "execute_result"
    }
   ],
   "source": [
    "float(string.strip('\"'))"
   ]
  },
  {
   "cell_type": "code",
   "execution_count": 57,
   "id": "707b4459-bdcc-4d6a-ad19-c11940012d43",
   "metadata": {},
   "outputs": [
    {
     "data": {
      "text/plain": [
       "0.814904"
      ]
     },
     "execution_count": 57,
     "metadata": {},
     "output_type": "execute_result"
    }
   ],
   "source": [
    "float((([(x) for x in test_dict.values()])[0]).strip('\"'))"
   ]
  },
  {
   "cell_type": "code",
   "execution_count": null,
   "id": "4fe7cc5f-ad9c-4564-b2aa-c521b4c654b3",
   "metadata": {},
   "outputs": [],
   "source": [
    "float((([(x) for x in res.values()])[0]).strip('\"'))"
   ]
  },
  {
   "cell_type": "code",
   "execution_count": 58,
   "id": "1d6b5e29-795d-4078-b7b6-59dd13c820e4",
   "metadata": {},
   "outputs": [
    {
     "data": {
      "text/plain": [
       "{'response': '\"0.814904\"'}"
      ]
     },
     "execution_count": 58,
     "metadata": {},
     "output_type": "execute_result"
    }
   ],
   "source": [
    "test_dict "
   ]
  },
  {
   "cell_type": "code",
   "execution_count": null,
   "id": "5871a09e-9959-4ba1-9669-459d0a8e4dcf",
   "metadata": {},
   "outputs": [],
   "source": []
  },
  {
   "cell_type": "code",
   "execution_count": null,
   "id": "530b64b0-4f74-4fa5-a9d1-dd1a97bb2b66",
   "metadata": {},
   "outputs": [],
   "source": []
  },
  {
   "cell_type": "code",
   "execution_count": null,
   "id": "720418bd-a012-4402-84be-4d9c14e27b4c",
   "metadata": {},
   "outputs": [],
   "source": []
  }
 ],
 "metadata": {
  "kernelspec": {
   "display_name": "bo_model_mlops",
   "language": "python",
   "name": "bo_model_mlops"
  },
  "language_info": {
   "codemirror_mode": {
    "name": "ipython",
    "version": 3
   },
   "file_extension": ".py",
   "mimetype": "text/x-python",
   "name": "python",
   "nbconvert_exporter": "python",
   "pygments_lexer": "ipython3",
   "version": "3.8.10"
  }
 },
 "nbformat": 4,
 "nbformat_minor": 5
}
